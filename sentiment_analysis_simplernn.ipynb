{
  "nbformat": 4,
  "nbformat_minor": 0,
  "metadata": {
    "colab": {
      "provenance": [],
      "gpuType": "T4",
      "include_colab_link": true
    },
    "kernelspec": {
      "name": "python3",
      "display_name": "Python 3"
    },
    "language_info": {
      "name": "python"
    },
    "accelerator": "GPU"
  },
  "cells": [
    {
      "cell_type": "markdown",
      "metadata": {
        "id": "view-in-github",
        "colab_type": "text"
      },
      "source": [
        "<a href=\"https://colab.research.google.com/github/vinodkumartz/Deep-Learning-Project/blob/main/sentiment_analysis_simplernn.ipynb\" target=\"_parent\"><img src=\"https://colab.research.google.com/assets/colab-badge.svg\" alt=\"Open In Colab\"/></a>"
      ]
    },
    {
      "cell_type": "code",
      "execution_count": null,
      "metadata": {
        "id": "vR6C9i-fyLvG"
      },
      "outputs": [],
      "source": [
        "docs = ['go india',\n",
        "\t\t'india india',\n",
        "\t\t'hip hip hurray',\n",
        "\t\t'jeetega bhai jeetega india jeetega',\n",
        "\t\t'bharat mata ki jai',\n",
        "\t\t'kohli kohli',\n",
        "\t\t'sachin sachin',\n",
        "\t\t'dhoni dhoni',\n",
        "\t\t'modi ji ki jai',\n",
        "\t\t'inquilab zindabad']"
      ]
    },
    {
      "cell_type": "code",
      "source": [
        "# Importing the Tokenizer class from the Keras library for text preprocessing.\n",
        "from keras.preprocessing.text import Tokenizer\n",
        "\n",
        "# Initializing a Tokenizer object.\n",
        "tokenizer = Tokenizer()\n"
      ],
      "metadata": {
        "id": "xRzvJNh1mRQW"
      },
      "execution_count": null,
      "outputs": []
    },
    {
      "cell_type": "code",
      "source": [
        "# Fitting the Tokenizer on the list of documents (docs) to build the vocabulary.\n",
        "# This step tokenizes the text and creates a word index, where each unique word in the documents\n",
        "# is assigned a unique integer index. The Tokenizer learns the vocabulary based on the input text data.\n",
        "tokenizer.fit_on_texts(docs)\n"
      ],
      "metadata": {
        "id": "2IhkPg6YmRYT"
      },
      "execution_count": null,
      "outputs": []
    },
    {
      "cell_type": "code",
      "source": [
        "# Getting the total number of unique words in the vocabulary learned by the Tokenizer.\n",
        "# The length of the word_index dictionary corresponds to the total number of unique words.\n",
        "num_unique_words = len(tokenizer.word_index)"
      ],
      "metadata": {
        "colab": {
          "base_uri": "https://localhost:8080/"
        },
        "id": "dP5g_Tmin4AG",
        "outputId": "219ad8f6-9390-4da8-afcd-d51a13a5b1e8"
      },
      "execution_count": null,
      "outputs": [
        {
          "output_type": "execute_result",
          "data": {
            "text/plain": [
              "17"
            ]
          },
          "metadata": {},
          "execution_count": 19
        }
      ]
    },
    {
      "cell_type": "code",
      "source": [
        "# Converting the list of documents (docs) into sequences of integers using the Tokenizer.\n",
        "# Each document is tokenized into a sequence of integers, where each integer represents\n",
        "# the index of the corresponding word in the vocabulary learned by the Tokenizer.\n",
        "sequences = tokenizer.texts_to_sequences(docs)\n"
      ],
      "metadata": {
        "colab": {
          "base_uri": "https://localhost:8080/"
        },
        "id": "lOv8NrFFmRcE",
        "outputId": "eb3fbafe-991a-450a-e4f8-2988c5df6525"
      },
      "execution_count": null,
      "outputs": [
        {
          "output_type": "execute_result",
          "data": {
            "text/plain": [
              "[[9, 1],\n",
              " [1, 1],\n",
              " [3, 3, 10],\n",
              " [2, 11, 2, 1, 2],\n",
              " [12, 13, 4, 5],\n",
              " [6, 6],\n",
              " [7, 7],\n",
              " [8, 8],\n",
              " [14, 15, 4, 5],\n",
              " [16, 17]]"
            ]
          },
          "metadata": {},
          "execution_count": 20
        }
      ]
    },
    {
      "cell_type": "code",
      "source": [
        "from keras.utils import pad_sequences\n",
        "# Padding the sequences to ensure uniform length for input into neural network models.\n",
        "# Padding is performed to ensure that all sequences have the same length, which is required\n",
        "# for batch processing in neural networks. 'post' padding adds zeros at the end of sequences.\n",
        "\n",
        "sequences = pad_sequences(sequences, padding='post')\n",
        "\n",
        "sequences"
      ],
      "metadata": {
        "colab": {
          "base_uri": "https://localhost:8080/"
        },
        "id": "KG1RqcLnmRkA",
        "outputId": "d497ded2-754f-457b-80f3-a4a69bbf1373"
      },
      "execution_count": null,
      "outputs": [
        {
          "output_type": "execute_result",
          "data": {
            "text/plain": [
              "array([[ 9,  1,  0,  0,  0],\n",
              "       [ 1,  1,  0,  0,  0],\n",
              "       [ 3,  3, 10,  0,  0],\n",
              "       [ 2, 11,  2,  1,  2],\n",
              "       [12, 13,  4,  5,  0],\n",
              "       [ 6,  6,  0,  0,  0],\n",
              "       [ 7,  7,  0,  0,  0],\n",
              "       [ 8,  8,  0,  0,  0],\n",
              "       [14, 15,  4,  5,  0],\n",
              "       [16, 17,  0,  0,  0]], dtype=int32)"
            ]
          },
          "metadata": {},
          "execution_count": 21
        }
      ]
    },
    {
      "cell_type": "code",
      "source": [
        "# Importing necessary libraries\n",
        "from keras.models import Sequential\n",
        "from keras.layers import Embedding\n",
        "\n",
        "# Initializing a Sequential model\n",
        "model = Sequential()\n",
        "\n",
        "# Adding an Embedding layer to the model\n",
        "# - The input dimension (17) represents the vocabulary size, i.e., the total number of unique words.\n",
        "# - The output dimension (2) represents the size of the embedding vector for each word.\n",
        "# - The input length (5) specifies the length of input sequences (number of words in each sequence).\n",
        "model.add(Embedding(input_dim=17, output_dim=2, input_length=5))\n",
        "\n",
        "# Displaying the summary of the model architecture\n",
        "model.summary()"
      ],
      "metadata": {
        "colab": {
          "base_uri": "https://localhost:8080/"
        },
        "id": "ETWEOn4wmRzd",
        "outputId": "b0ac8b69-117d-466c-ae34-422ffe7a90e1"
      },
      "execution_count": null,
      "outputs": [
        {
          "output_type": "stream",
          "name": "stdout",
          "text": [
            "Model: \"sequential_4\"\n",
            "_________________________________________________________________\n",
            " Layer (type)                Output Shape              Param #   \n",
            "=================================================================\n",
            " embedding_4 (Embedding)     (None, 5, 2)              34        \n",
            "                                                                 \n",
            "=================================================================\n",
            "Total params: 34\n",
            "Trainable params: 34\n",
            "Non-trainable params: 0\n",
            "_________________________________________________________________\n"
          ]
        }
      ]
    },
    {
      "cell_type": "code",
      "source": [
        "# Compiling the model with specified optimizer and metrics.\n",
        "# - The 'adam' optimizer is used for gradient-based optimization. It adapts learning rates for each parameter.\n",
        "# - 'accuracy' is chosen as the metric to monitor during training, which calculates the accuracy of the model predictions.\n",
        "\n",
        "model.compile(optimizer='adam', loss='accuracy')\n"
      ],
      "metadata": {
        "id": "R68ghDfNmSAC"
      },
      "execution_count": null,
      "outputs": []
    },
    {
      "cell_type": "code",
      "source": [
        "# Making predictions using the trained model on the input sequences.\n",
        "# The model.predict() function generates predictions for each input sequence in 'sequences'.\n",
        "pred = model.predict(sequences)\n",
        "\n",
        "# Printing the predicted values.\n",
        "# 'pred' contains the predicted output values for each input sequence.\n",
        "print(pred)\n"
      ],
      "metadata": {
        "colab": {
          "base_uri": "https://localhost:8080/"
        },
        "id": "ooYWO2NwoKoQ",
        "outputId": "62b763d3-07b0-49d5-a2ca-23fe55c4ee7e"
      },
      "execution_count": null,
      "outputs": [
        {
          "output_type": "stream",
          "name": "stdout",
          "text": [
            "1/1 [==============================] - 0s 15ms/step\n",
            "[[[-0.03378457 -0.0223366 ]\n",
            "  [-0.01869411  0.0397962 ]\n",
            "  [ 0.04738592  0.03497881]\n",
            "  [ 0.04738592  0.03497881]\n",
            "  [ 0.04738592  0.03497881]]\n",
            "\n",
            " [[-0.01869411  0.0397962 ]\n",
            "  [-0.01869411  0.0397962 ]\n",
            "  [ 0.04738592  0.03497881]\n",
            "  [ 0.04738592  0.03497881]\n",
            "  [ 0.04738592  0.03497881]]\n",
            "\n",
            " [[ 0.00716299  0.02782274]\n",
            "  [ 0.00716299  0.02782274]\n",
            "  [-0.02727993 -0.02907238]\n",
            "  [ 0.04738592  0.03497881]\n",
            "  [ 0.04738592  0.03497881]]\n",
            "\n",
            " [[ 0.04634063 -0.01492285]\n",
            "  [ 0.04544855 -0.02214533]\n",
            "  [ 0.04634063 -0.01492285]\n",
            "  [-0.01869411  0.0397962 ]\n",
            "  [ 0.04634063 -0.01492285]]\n",
            "\n",
            " [[ 0.03687553  0.00542127]\n",
            "  [ 0.00882751  0.02693466]\n",
            "  [ 0.00960891 -0.02113671]\n",
            "  [-0.01385436  0.00159916]\n",
            "  [ 0.04738592  0.03497881]]\n",
            "\n",
            " [[ 0.04272473 -0.02110641]\n",
            "  [ 0.04272473 -0.02110641]\n",
            "  [ 0.04738592  0.03497881]\n",
            "  [ 0.04738592  0.03497881]\n",
            "  [ 0.04738592  0.03497881]]\n",
            "\n",
            " [[ 0.01033523 -0.02812191]\n",
            "  [ 0.01033523 -0.02812191]\n",
            "  [ 0.04738592  0.03497881]\n",
            "  [ 0.04738592  0.03497881]\n",
            "  [ 0.04738592  0.03497881]]\n",
            "\n",
            " [[ 0.0243187  -0.02920236]\n",
            "  [ 0.0243187  -0.02920236]\n",
            "  [ 0.04738592  0.03497881]\n",
            "  [ 0.04738592  0.03497881]\n",
            "  [ 0.04738592  0.03497881]]\n",
            "\n",
            " [[ 0.03549886  0.00285759]\n",
            "  [ 0.0033599  -0.03792955]\n",
            "  [ 0.00960891 -0.02113671]\n",
            "  [-0.01385436  0.00159916]\n",
            "  [ 0.04738592  0.03497881]]\n",
            "\n",
            " [[-0.03086355  0.04078293]\n",
            "  [ 0.          0.        ]\n",
            "  [ 0.04738592  0.03497881]\n",
            "  [ 0.04738592  0.03497881]\n",
            "  [ 0.04738592  0.03497881]]]\n"
          ]
        }
      ]
    },
    {
      "cell_type": "code",
      "source": [
        "# Importing necessary libraries for the IMDB sentiment analysis example.\n",
        "from keras.datasets import imdb  # Importing the IMDB dataset for sentiment analysis.\n",
        "from keras.preprocessing.text import Tokenizer  # Importing the Tokenizer for text preprocessing.\n",
        "from keras.utils import pad_sequences  # Importing pad_sequences for sequence padding.\n",
        "from keras import Sequential  # Importing the Sequential model for building neural networks.\n",
        "from keras.layers import Dense, SimpleRNN, Embedding, Flatten  # Importing layers for the neural network architecture.\n",
        "\n",
        "# The IMDB dataset is a popular dataset for sentiment analysis, containing movie reviews along with their sentiment labels.\n",
        "# Tokenizer is used for tokenizing text data, pad_sequences is used for padding sequences to a fixed length,\n",
        "# Sequential is used to define a linear stack of layers for building neural networks,\n",
        "# and Dense, SimpleRNN, Embedding, and Flatten are specific layers used to define the architecture of the neural network model.\n"
      ],
      "metadata": {
        "id": "yrM0IXVamPLn"
      },
      "execution_count": null,
      "outputs": []
    },
    {
      "cell_type": "code",
      "source": [
        "# Loading the IMDB dataset and splitting it into training and testing sets.\n",
        "# The dataset consists of movie reviews encoded as sequences of word indices, along with their corresponding sentiment labels.\n",
        "# - (X_train, y_train): Training set containing movie reviews (sequences of word indices) and their sentiment labels.\n",
        "# - (X_test, y_test): Testing set containing movie reviews (sequences of word indices) and their sentiment labels.\n",
        "(X_train, y_train), (X_test, y_test) = imdb.load_data()\n"
      ],
      "metadata": {
        "id": "4aH4HVjcyq1f"
      },
      "execution_count": null,
      "outputs": []
    },
    {
      "cell_type": "code",
      "source": [
        "# Padding the sequences in the training and testing sets to ensure uniform length.\n",
        "# Padding is performed to ensure that all sequences have the same length, which is necessary for batch processing in neural networks.\n",
        "# - X_train: Training set containing sequences of word indices representing movie reviews.\n",
        "# - X_test: Testing set containing sequences of word indices representing movie reviews.\n",
        "# - 'post' padding adds zeros at the end of sequences.\n",
        "# - 'maxlen=50' specifies the maximum length of sequences after padding, ensuring that all sequences are truncated or padded to a length of 50.\n",
        "X_train = pad_sequences(X_train, padding='post', maxlen=50)\n",
        "X_test = pad_sequences(X_test, padding='post', maxlen=50)\n"
      ],
      "metadata": {
        "id": "cu2UOZGUzAEF"
      },
      "execution_count": null,
      "outputs": []
    },
    {
      "cell_type": "code",
      "source": [
        "X_train.shape"
      ],
      "metadata": {
        "colab": {
          "base_uri": "https://localhost:8080/"
        },
        "id": "aO412Krkz7EO",
        "outputId": "b4f2de4f-c1ba-4d76-c8b9-cf7087850a3c"
      },
      "execution_count": null,
      "outputs": [
        {
          "output_type": "execute_result",
          "data": {
            "text/plain": [
              "(25000, 50)"
            ]
          },
          "metadata": {},
          "execution_count": 4
        }
      ]
    },
    {
      "cell_type": "code",
      "source": [
        "# Padding the sequences in the training and testing sets to ensure uniform length.\n",
        "# Padding is performed to ensure that all sequences have the same length, which is necessary for batch processing in neural networks.\n",
        "# - X_train: Training set containing sequences of word indices representing movie reviews.\n",
        "# - X_test: Testing set containing sequences of word indices representing movie reviews.\n",
        "# - 'post' padding adds zeros at the end of sequences.\n",
        "# - 'maxlen=50' specifies the maximum length of sequences after padding, ensuring that all sequences are truncated or padded to a length of 50.\n",
        "X_train = pad_sequences(X_train, padding='post', maxlen=50)\n",
        "X_test = pad_sequences(X_test, padding='post', maxlen=50)\n"
      ],
      "metadata": {
        "colab": {
          "base_uri": "https://localhost:8080/"
        },
        "id": "WWXhm8vP_DO-",
        "outputId": "c3eb5f20-a438-4439-b5fe-640f215fb61c"
      },
      "execution_count": null,
      "outputs": [
        {
          "output_type": "stream",
          "name": "stdout",
          "text": [
            "Model: \"sequential\"\n",
            "_________________________________________________________________\n",
            " Layer (type)                Output Shape              Param #   \n",
            "=================================================================\n",
            " embedding (Embedding)       (None, None, 2)           20000     \n",
            "                                                                 \n",
            " simple_rnn (SimpleRNN)      (None, 32)                1120      \n",
            "                                                                 \n",
            " dense (Dense)               (None, 1)                 33        \n",
            "                                                                 \n",
            "=================================================================\n",
            "Total params: 21,153\n",
            "Trainable params: 21,153\n",
            "Non-trainable params: 0\n",
            "_________________________________________________________________\n"
          ]
        }
      ]
    },
    {
      "cell_type": "code",
      "source": [
        "# Compiling and training the model on the IMDB dataset for sentiment analysis.\n",
        "# - The model is compiled with the Adam optimizer, binary cross-entropy loss function, and accuracy metric.\n",
        "# - Training is performed for 5 epochs.\n",
        "# - Validation data is provided to evaluate the model's performance on the testing set during training.\n",
        "model.compile(optimizer='adam', loss='binary_crossentropy', metrics=['acc'])\n",
        "\n",
        "# Training the model on the training data.\n",
        "# - X_train: Input sequences of word indices representing movie reviews in the training set.\n",
        "# - y_train: Target sentiment labels (0 for negative, 1 for positive) corresponding to the reviews in the training set.\n",
        "# - epochs=5: Number of epochs (iterations over the entire training data) for training the model.\n",
        "# - validation_data=(X_test, y_test): Validation data to evaluate the model's performance on the testing set during training.\n",
        "history = model.fit(X_train, y_train, epochs=5, validation_data=(X_test, y_test))\n"
      ],
      "metadata": {
        "colab": {
          "base_uri": "https://localhost:8080/"
        },
        "id": "AGCAZ7Rm_fqH",
        "outputId": "6f6a73ab-fbd4-4a23-ea56-46e3f9358c8a"
      },
      "execution_count": null,
      "outputs": [
        {
          "output_type": "stream",
          "name": "stdout",
          "text": [
            "Epoch 1/5\n",
            "782/782 [==============================] - 40s 50ms/step - loss: 0.5801 - acc: 0.6731 - val_loss: 0.4433 - val_acc: 0.7978\n",
            "Epoch 2/5\n",
            "782/782 [==============================] - 39s 50ms/step - loss: 0.3524 - acc: 0.8510 - val_loss: 0.4430 - val_acc: 0.8051\n",
            "Epoch 3/5\n",
            "782/782 [==============================] - 39s 50ms/step - loss: 0.2040 - acc: 0.9224 - val_loss: 0.5460 - val_acc: 0.7828\n",
            "Epoch 4/5\n",
            "782/782 [==============================] - 38s 49ms/step - loss: 0.0823 - acc: 0.9735 - val_loss: 0.6990 - val_acc: 0.7824\n",
            "Epoch 5/5\n",
            "782/782 [==============================] - 38s 49ms/step - loss: 0.0352 - acc: 0.9894 - val_loss: 0.8774 - val_acc: 0.7670\n"
          ]
        }
      ]
    }
  ]
}